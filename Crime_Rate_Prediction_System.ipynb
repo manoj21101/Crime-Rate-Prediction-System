{
  "cells": [
    {
      "cell_type": "markdown",
      "metadata": {
        "id": "HngYIqRM1RjP"
      },
      "source": [
        "**Data Collection and Data Preprocessing**"
      ]
    },
    {
      "cell_type": "code",
      "execution_count": null,
      "metadata": {
        "id": "zDPJpa1NNPQF"
      },
      "outputs": [],
      "source": [
        "import pandas as pd\n",
        "\n",
        "df = \"/content/32_Murder_victim_age_sex.csv\"\n",
        "crime_data = pd.read_csv(df)\n",
        "crime_data.fillna(0, inplace=True)\n"
      ]
    },
    {
      "cell_type": "markdown",
      "metadata": {
        "id": "8ujpVExk3ieL"
      },
      "source": [
        "**Feature bold text Selection and Data Splitting**"
      ]
    },
    {
      "cell_type": "code",
      "execution_count": null,
      "metadata": {
        "id": "YRcI_w5Z3ipN"
      },
      "outputs": [],
      "source": [
        "from sklearn.model_selection import train_test_split\n",
        "\n",
        "X = crime_data[['Area_Name', 'Year']]\n",
        "y = crime_data[['Victims_Total', 'Victims_Above_50_Yrs', 'Victims_Upto_10_15_Yrs',\n",
        "                'Victims_Upto_10_Yrs', 'Victims_Upto_15_18_Yrs', 'Victims_Upto_18_30_Yrs',\n",
        "                'Victims_Upto_30_50_Yrs']]\n",
        "\n",
        "# Split data into training and testing sets\n",
        "X_train, X_test, y_train, y_test = train_test_split(X, y, test_size=0.2, random_state=42)"
      ]
    },
    {
      "cell_type": "markdown",
      "metadata": {
        "id": "jJQwOX2Y4FE0"
      },
      "source": [
        "**Model Building(Ridge regression)**"
      ]
    },
    {
      "cell_type": "code",
      "execution_count": null,
      "metadata": {
        "id": "ap2x7Hk-4EY4",
        "colab": {
          "base_uri": "https://localhost:8080/"
        },
        "outputId": "73e12850-417a-4fd8-a11d-5d91181d3028"
      },
      "outputs": [
        {
          "output_type": "stream",
          "name": "stdout",
          "text": [
            "R-squared score: 0.5692321976670851\n"
          ]
        }
      ],
      "source": [
        "from sklearn.pipeline import Pipeline\n",
        "from sklearn.preprocessing import StandardScaler, OneHotEncoder\n",
        "from sklearn.compose import ColumnTransformer\n",
        "from sklearn.linear_model import Ridge\n",
        "\n",
        "# Define preprocessing steps\n",
        "preprocessor = ColumnTransformer(\n",
        "    transformers=[('cat', OneHotEncoder(), [0])],\n",
        "    remainder='passthrough'\n",
        ")\n",
        "\n",
        "# Define the Ridge regression pipeline\n",
        "pipeline = Pipeline([\n",
        "    ('preprocessor', preprocessor),\n",
        "    ('scaler', StandardScaler(with_mean=False)),\n",
        "    ('ridge', Ridge())\n",
        "])\n",
        "# Fit the pipeline to the training data\n",
        "pipeline.fit(X_train, y_train)\n",
        "\n",
        "# Make predictions on the testing data\n",
        "y_pred = pipeline.predict(X_test)\n",
        "\n",
        "# Calculate the R-squared score\n",
        "accuracy = r2_score(y_test, y_pred)\n",
        "print(\"R-squared score:\", accuracy)"
      ]
    },
    {
      "cell_type": "markdown",
      "metadata": {
        "id": "LSyozPr74KGv"
      },
      "source": [
        "**Hyperparameter Tuning**\n"
      ]
    },
    {
      "cell_type": "code",
      "execution_count": null,
      "metadata": {
        "id": "0LTIOfby4JYy"
      },
      "outputs": [],
      "source": [
        "from sklearn.model_selection import GridSearchCV\n",
        "\n",
        "param_grid = {'ridge__alpha': [0.001, 0.01, 0.1, 1, 10, 100]}\n",
        "\n",
        "# Here i have used GridSearchCV\n",
        "grid_search = GridSearchCV(pipeline, param_grid, cv=5, scoring='neg_mean_squared_error')\n",
        "grid_search.fit(X_train, y_train)\n",
        "\n",
        "best_alpha = grid_search.best_params_['ridge__alpha']\n"
      ]
    },
    {
      "cell_type": "markdown",
      "metadata": {
        "id": "xMI_NS3L4Y6y"
      },
      "source": [
        "**Model Evaluation**"
      ]
    },
    {
      "cell_type": "code",
      "execution_count": null,
      "metadata": {
        "colab": {
          "base_uri": "https://localhost:8080/"
        },
        "id": "8T6JKRhz4YYS",
        "outputId": "05cf75ee-7e01-483e-e39c-5e617e74d385"
      },
      "outputs": [
        {
          "output_type": "stream",
          "name": "stdout",
          "text": [
            "Best Alpha: 10\n",
            "Root Mean Squared Error (RMSE): 183.24128971518257\n",
            "R-squared (R2) Score: 0.5732860665325085\n",
            "Mean Absolute Error (MAE): 90.24632315895558\n"
          ]
        }
      ],
      "source": [
        "from sklearn.metrics import mean_squared_error, r2_score, mean_absolute_error\n",
        "\n",
        "# Training the model with the best hyperparameters\n",
        "best_model = grid_search.best_estimator_\n",
        "best_model.fit(X_train, y_train)\n",
        "\n",
        "# Make predictions\n",
        "y_pred = best_model.predict(X_test)\n",
        "\n",
        "# Evaluating the model\n",
        "rmse = mean_squared_error(y_test, y_pred, squared=False)\n",
        "r2 = r2_score(y_test, y_pred)\n",
        "mae = mean_absolute_error(y_test, y_pred)\n",
        "\n",
        "print(\"Best Alpha:\", best_alpha)\n",
        "print(\"Root Mean Squared Error (RMSE):\", rmse)\n",
        "print(\"R-squared (R2) Score:\", r2)\n",
        "print(\"Mean Absolute Error (MAE):\", mae)\n"
      ]
    },
    {
      "cell_type": "markdown",
      "metadata": {
        "id": "cVX9lGSy4zh4"
      },
      "source": [
        "**Input Handling and Output Prediction**\n",
        "\n",
        "\n"
      ]
    },
    {
      "cell_type": "code",
      "execution_count": null,
      "metadata": {
        "colab": {
          "base_uri": "https://localhost:8080/",
          "height": 891,
          "referenced_widgets": [
            "94bc8668d7e94bd6b7fa8e956c06bd21",
            "742df5f1c6634d3095f6c7cf5de8f431",
            "52e290761bd54bea93ddbe5828cc66d1",
            "3e17c1b6f7294552988b834f42176c30",
            "d474b02bf8344f6f9df7d4c95897324b",
            "96ec8665d8c54b4cab312f21e057188f",
            "912e3c98f4314729926fa63103920e12",
            "b78f6f9b2d084b6cb78cb743a047f065",
            "23a8326460d449c0be71c910bdc559f3",
            "24132aaf97e444ea886cef29fb1d1a4d"
          ]
        },
        "id": "1-MNHxIFoL4V",
        "outputId": "7bfe2aba-dc5c-485a-d19a-ce0d1a98185e"
      },
      "outputs": [
        {
          "output_type": "display_data",
          "data": {
            "text/plain": [
              "interactive(children=(Dropdown(description='State:', options=('Andhra Pradesh', 'Andaman & Nicobar Islands', '…"
            ],
            "application/vnd.jupyter.widget-view+json": {
              "version_major": 2,
              "version_minor": 0,
              "model_id": "94bc8668d7e94bd6b7fa8e956c06bd21"
            }
          },
          "metadata": {}
        }
      ],
      "source": [
        "import matplotlib.pyplot as plt\n",
        "import numpy as np\n",
        "from ipywidgets import interact, widgets\n",
        "\n",
        "def predict_victims(state, year):\n",
        "    predicted_values = predict_victims_function(state, year)\n",
        "\n",
        "    # Ensure that Total Victims is at least the sum of the other age group categories\n",
        "    total_victims = max(0, predicted_values[0])\n",
        "    total_victims = max(total_victims, sum(max(0, val) for val in predicted_values[1:]))\n",
        "\n",
        "    # Print the predictions\n",
        "    print(f\"\\nPredictions for {state} in {year}:\")\n",
        "    print(\"Total Victims:\", total_victims)\n",
        "    print(\"Victims Above 50 Years:\", max(0, predicted_values[1]))\n",
        "    print(\"Victims Upto 10-15 Years:\", max(0, predicted_values[2]))\n",
        "    print(\"Victims Upto 10 Years:\", max(0, predicted_values[3]))\n",
        "    print(\"Victims Upto 15-18 Years:\", max(0, predicted_values[4]))\n",
        "    print(\"Victims Upto 18-30 Years:\", max(0, predicted_values[5]))\n",
        "    print(\"Victims Upto 30-50 Years:\", max(0, predicted_values[6]))\n",
        "\n",
        "    # Visualize the predictions\n",
        "    labels = ['Total Victims', 'Above 50', '10-15', 'Upto 10', '15-18', '18-30', '30-50']\n",
        "    values = [total_victims] + [max(0, val) for val in predicted_values[1:]]  # Ensure non-negative values\n",
        "\n",
        "    plt.figure(figsize=(10, 6))\n",
        "    plt.bar(labels, values, color='skyblue')\n",
        "    plt.title(f'Predicted Victims for {state} in {year}')\n",
        "    plt.xlabel('Age Groups')\n",
        "    plt.ylabel('Number of Victims')\n",
        "    plt.xticks(rotation=45)\n",
        "    plt.grid(axis='y', linestyle='--', alpha=0.7)\n",
        "    plt.show()\n",
        "\n",
        "# Define a function to make predictions based on the selected state and year\n",
        "def predict_victims_function(state, year):\n",
        "    # Perform prediction using the model for the selected state and year\n",
        "    prediction = best_model.predict([[state, year]])\n",
        "    return prediction[0]\n",
        "\n",
        "# The input box will be a dropdown menu widget for selecting states\n",
        "state_dropdown = widgets.Dropdown(\n",
        "    options=[\n",
        "         'Andhra Pradesh', 'Andaman & Nicobar Islands','Arunachal Pradesh', 'Assam', 'Bihar',\n",
        "        'Chandigarh', 'Chhattisgarh', 'Delhi', 'Goa', 'Gujarat', 'Haryana', 'Himachal Pradesh',\n",
        "        'Jammu & Kashmir', 'Jharkhand', 'Karnataka', 'Kerala', 'Lakshadweep', 'Madhya Pradesh',\n",
        "        'Maharashtra', 'Manipur', 'Meghalaya', 'Mizoram', 'Nagaland', 'Odisha', 'Puducherry',\n",
        "        'Punjab', 'Rajasthan', 'Sikkim', 'Tamil Nadu', 'Tripura', 'Uttar Pradesh', 'Uttarakhand',\n",
        "        'West Bengal', 'Dadra & Nagar Haveli', 'Daman & Diu'\n",
        "    ],\n",
        "    description='State:',\n",
        "    disabled=False,\n",
        ")\n",
        "\n",
        "# Define the text input widget for entering the year\n",
        "year_input = widgets.Text(\n",
        "    value='2013',\n",
        "    description='Year:',\n",
        "    disabled=False\n",
        ")\n",
        "\n",
        "# Use the interact function to create the form and link it to the prediction function\n",
        "interact(predict_victims, state=state_dropdown, year=year_input);\n"
      ]
    },
    {
      "cell_type": "code",
      "source": [
        "import joblib"
      ],
      "metadata": {
        "id": "FAGLrPHQiqsR"
      },
      "execution_count": null,
      "outputs": []
    },
    {
      "cell_type": "code",
      "source": [
        "joblib.dump(best_model,'model.pkl')"
      ],
      "metadata": {
        "colab": {
          "base_uri": "https://localhost:8080/"
        },
        "id": "fBvV_5ODiuie",
        "outputId": "9eb73502-dffd-4c7e-cc56-5386bc75ed9e"
      },
      "execution_count": null,
      "outputs": [
        {
          "output_type": "execute_result",
          "data": {
            "text/plain": [
              "['model.pkl']"
            ]
          },
          "metadata": {},
          "execution_count": 95
        }
      ]
    }
  ],
  "metadata": {
    "colab": {
      "provenance": []
    },
    "kernelspec": {
      "display_name": "Python 3",
      "name": "python3"
    },
    "language_info": {
      "name": "python"
    },
    "widgets": {
      "application/vnd.jupyter.widget-state+json": {
        "94bc8668d7e94bd6b7fa8e956c06bd21": {
          "model_module": "@jupyter-widgets/controls",
          "model_name": "VBoxModel",
          "model_module_version": "1.5.0",
          "state": {
            "_dom_classes": [
              "widget-interact"
            ],
            "_model_module": "@jupyter-widgets/controls",
            "_model_module_version": "1.5.0",
            "_model_name": "VBoxModel",
            "_view_count": null,
            "_view_module": "@jupyter-widgets/controls",
            "_view_module_version": "1.5.0",
            "_view_name": "VBoxView",
            "box_style": "",
            "children": [
              "IPY_MODEL_742df5f1c6634d3095f6c7cf5de8f431",
              "IPY_MODEL_52e290761bd54bea93ddbe5828cc66d1",
              "IPY_MODEL_3e17c1b6f7294552988b834f42176c30"
            ],
            "layout": "IPY_MODEL_d474b02bf8344f6f9df7d4c95897324b"
          }
        },
        "742df5f1c6634d3095f6c7cf5de8f431": {
          "model_module": "@jupyter-widgets/controls",
          "model_name": "DropdownModel",
          "model_module_version": "1.5.0",
          "state": {
            "_dom_classes": [],
            "_model_module": "@jupyter-widgets/controls",
            "_model_module_version": "1.5.0",
            "_model_name": "DropdownModel",
            "_options_labels": [
              "Andhra Pradesh",
              "Andaman & Nicobar Islands",
              "Arunachal Pradesh",
              "Assam",
              "Bihar",
              "Chandigarh",
              "Chhattisgarh",
              "Delhi",
              "Goa",
              "Gujarat",
              "Haryana",
              "Himachal Pradesh",
              "Jammu & Kashmir",
              "Jharkhand",
              "Karnataka",
              "Kerala",
              "Lakshadweep",
              "Madhya Pradesh",
              "Maharashtra",
              "Manipur",
              "Meghalaya",
              "Mizoram",
              "Nagaland",
              "Odisha",
              "Puducherry",
              "Punjab",
              "Rajasthan",
              "Sikkim",
              "Tamil Nadu",
              "Tripura",
              "Uttar Pradesh",
              "Uttarakhand",
              "West Bengal",
              "Dadra & Nagar Haveli",
              "Daman & Diu"
            ],
            "_view_count": null,
            "_view_module": "@jupyter-widgets/controls",
            "_view_module_version": "1.5.0",
            "_view_name": "DropdownView",
            "description": "State:",
            "description_tooltip": null,
            "disabled": false,
            "index": 7,
            "layout": "IPY_MODEL_96ec8665d8c54b4cab312f21e057188f",
            "style": "IPY_MODEL_912e3c98f4314729926fa63103920e12"
          }
        },
        "52e290761bd54bea93ddbe5828cc66d1": {
          "model_module": "@jupyter-widgets/controls",
          "model_name": "TextModel",
          "model_module_version": "1.5.0",
          "state": {
            "_dom_classes": [],
            "_model_module": "@jupyter-widgets/controls",
            "_model_module_version": "1.5.0",
            "_model_name": "TextModel",
            "_view_count": null,
            "_view_module": "@jupyter-widgets/controls",
            "_view_module_version": "1.5.0",
            "_view_name": "TextView",
            "continuous_update": true,
            "description": "Year:",
            "description_tooltip": null,
            "disabled": false,
            "layout": "IPY_MODEL_b78f6f9b2d084b6cb78cb743a047f065",
            "placeholder": "​",
            "style": "IPY_MODEL_23a8326460d449c0be71c910bdc559f3",
            "value": "2013"
          }
        },
        "3e17c1b6f7294552988b834f42176c30": {
          "model_module": "@jupyter-widgets/output",
          "model_name": "OutputModel",
          "model_module_version": "1.0.0",
          "state": {
            "_dom_classes": [],
            "_model_module": "@jupyter-widgets/output",
            "_model_module_version": "1.0.0",
            "_model_name": "OutputModel",
            "_view_count": null,
            "_view_module": "@jupyter-widgets/output",
            "_view_module_version": "1.0.0",
            "_view_name": "OutputView",
            "layout": "IPY_MODEL_24132aaf97e444ea886cef29fb1d1a4d",
            "msg_id": "",
            "outputs": [
              {
                "output_type": "stream",
                "name": "stdout",
                "text": [
                  "\n",
                  "Predictions for Delhi in 201:\n",
                  "Total Victims: 24710.747975255494\n",
                  "Victims Above 50 Years: 624.2791839153429\n",
                  "Victims Upto 10-15 Years: 191.747204230121\n",
                  "Victims Upto 10 Years: 188.15960351338472\n",
                  "Victims Upto 15-18 Years: 3321.5308801732526\n",
                  "Victims Upto 18-30 Years: 10037.286522306922\n",
                  "Victims Upto 30-50 Years: 10347.744581116469\n"
                ]
              },
              {
                "output_type": "stream",
                "name": "stderr",
                "text": [
                  "/usr/local/lib/python3.10/dist-packages/sklearn/base.py:439: UserWarning: X does not have valid feature names, but OneHotEncoder was fitted with feature names\n",
                  "  warnings.warn(\n"
                ]
              },
              {
                "output_type": "display_data",
                "data": {
                  "text/plain": "<Figure size 1000x600 with 1 Axes>",
                  "image/png": "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\n"
                },
                "metadata": {}
              }
            ]
          }
        },
        "d474b02bf8344f6f9df7d4c95897324b": {
          "model_module": "@jupyter-widgets/base",
          "model_name": "LayoutModel",
          "model_module_version": "1.2.0",
          "state": {
            "_model_module": "@jupyter-widgets/base",
            "_model_module_version": "1.2.0",
            "_model_name": "LayoutModel",
            "_view_count": null,
            "_view_module": "@jupyter-widgets/base",
            "_view_module_version": "1.2.0",
            "_view_name": "LayoutView",
            "align_content": null,
            "align_items": null,
            "align_self": null,
            "border": null,
            "bottom": null,
            "display": null,
            "flex": null,
            "flex_flow": null,
            "grid_area": null,
            "grid_auto_columns": null,
            "grid_auto_flow": null,
            "grid_auto_rows": null,
            "grid_column": null,
            "grid_gap": null,
            "grid_row": null,
            "grid_template_areas": null,
            "grid_template_columns": null,
            "grid_template_rows": null,
            "height": null,
            "justify_content": null,
            "justify_items": null,
            "left": null,
            "margin": null,
            "max_height": null,
            "max_width": null,
            "min_height": null,
            "min_width": null,
            "object_fit": null,
            "object_position": null,
            "order": null,
            "overflow": null,
            "overflow_x": null,
            "overflow_y": null,
            "padding": null,
            "right": null,
            "top": null,
            "visibility": null,
            "width": null
          }
        },
        "96ec8665d8c54b4cab312f21e057188f": {
          "model_module": "@jupyter-widgets/base",
          "model_name": "LayoutModel",
          "model_module_version": "1.2.0",
          "state": {
            "_model_module": "@jupyter-widgets/base",
            "_model_module_version": "1.2.0",
            "_model_name": "LayoutModel",
            "_view_count": null,
            "_view_module": "@jupyter-widgets/base",
            "_view_module_version": "1.2.0",
            "_view_name": "LayoutView",
            "align_content": null,
            "align_items": null,
            "align_self": null,
            "border": null,
            "bottom": null,
            "display": null,
            "flex": null,
            "flex_flow": null,
            "grid_area": null,
            "grid_auto_columns": null,
            "grid_auto_flow": null,
            "grid_auto_rows": null,
            "grid_column": null,
            "grid_gap": null,
            "grid_row": null,
            "grid_template_areas": null,
            "grid_template_columns": null,
            "grid_template_rows": null,
            "height": null,
            "justify_content": null,
            "justify_items": null,
            "left": null,
            "margin": null,
            "max_height": null,
            "max_width": null,
            "min_height": null,
            "min_width": null,
            "object_fit": null,
            "object_position": null,
            "order": null,
            "overflow": null,
            "overflow_x": null,
            "overflow_y": null,
            "padding": null,
            "right": null,
            "top": null,
            "visibility": null,
            "width": null
          }
        },
        "912e3c98f4314729926fa63103920e12": {
          "model_module": "@jupyter-widgets/controls",
          "model_name": "DescriptionStyleModel",
          "model_module_version": "1.5.0",
          "state": {
            "_model_module": "@jupyter-widgets/controls",
            "_model_module_version": "1.5.0",
            "_model_name": "DescriptionStyleModel",
            "_view_count": null,
            "_view_module": "@jupyter-widgets/base",
            "_view_module_version": "1.2.0",
            "_view_name": "StyleView",
            "description_width": ""
          }
        },
        "b78f6f9b2d084b6cb78cb743a047f065": {
          "model_module": "@jupyter-widgets/base",
          "model_name": "LayoutModel",
          "model_module_version": "1.2.0",
          "state": {
            "_model_module": "@jupyter-widgets/base",
            "_model_module_version": "1.2.0",
            "_model_name": "LayoutModel",
            "_view_count": null,
            "_view_module": "@jupyter-widgets/base",
            "_view_module_version": "1.2.0",
            "_view_name": "LayoutView",
            "align_content": null,
            "align_items": null,
            "align_self": null,
            "border": null,
            "bottom": null,
            "display": null,
            "flex": null,
            "flex_flow": null,
            "grid_area": null,
            "grid_auto_columns": null,
            "grid_auto_flow": null,
            "grid_auto_rows": null,
            "grid_column": null,
            "grid_gap": null,
            "grid_row": null,
            "grid_template_areas": null,
            "grid_template_columns": null,
            "grid_template_rows": null,
            "height": null,
            "justify_content": null,
            "justify_items": null,
            "left": null,
            "margin": null,
            "max_height": null,
            "max_width": null,
            "min_height": null,
            "min_width": null,
            "object_fit": null,
            "object_position": null,
            "order": null,
            "overflow": null,
            "overflow_x": null,
            "overflow_y": null,
            "padding": null,
            "right": null,
            "top": null,
            "visibility": null,
            "width": null
          }
        },
        "23a8326460d449c0be71c910bdc559f3": {
          "model_module": "@jupyter-widgets/controls",
          "model_name": "DescriptionStyleModel",
          "model_module_version": "1.5.0",
          "state": {
            "_model_module": "@jupyter-widgets/controls",
            "_model_module_version": "1.5.0",
            "_model_name": "DescriptionStyleModel",
            "_view_count": null,
            "_view_module": "@jupyter-widgets/base",
            "_view_module_version": "1.2.0",
            "_view_name": "StyleView",
            "description_width": ""
          }
        },
        "24132aaf97e444ea886cef29fb1d1a4d": {
          "model_module": "@jupyter-widgets/base",
          "model_name": "LayoutModel",
          "model_module_version": "1.2.0",
          "state": {
            "_model_module": "@jupyter-widgets/base",
            "_model_module_version": "1.2.0",
            "_model_name": "LayoutModel",
            "_view_count": null,
            "_view_module": "@jupyter-widgets/base",
            "_view_module_version": "1.2.0",
            "_view_name": "LayoutView",
            "align_content": null,
            "align_items": null,
            "align_self": null,
            "border": null,
            "bottom": null,
            "display": null,
            "flex": null,
            "flex_flow": null,
            "grid_area": null,
            "grid_auto_columns": null,
            "grid_auto_flow": null,
            "grid_auto_rows": null,
            "grid_column": null,
            "grid_gap": null,
            "grid_row": null,
            "grid_template_areas": null,
            "grid_template_columns": null,
            "grid_template_rows": null,
            "height": null,
            "justify_content": null,
            "justify_items": null,
            "left": null,
            "margin": null,
            "max_height": null,
            "max_width": null,
            "min_height": null,
            "min_width": null,
            "object_fit": null,
            "object_position": null,
            "order": null,
            "overflow": null,
            "overflow_x": null,
            "overflow_y": null,
            "padding": null,
            "right": null,
            "top": null,
            "visibility": null,
            "width": null
          }
        }
      }
    }
  },
  "nbformat": 4,
  "nbformat_minor": 0
}
